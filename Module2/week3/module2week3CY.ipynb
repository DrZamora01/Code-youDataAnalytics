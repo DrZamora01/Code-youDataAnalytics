{
  "nbformat": 4,
  "nbformat_minor": 0,
  "metadata": {
    "colab": {
      "provenance": []
    },
    "kernelspec": {
      "name": "python3",
      "display_name": "Python 3"
    },
    "language_info": {
      "name": "python"
    }
  },
  "cells": [
    {
      "cell_type": "code",
      "execution_count": null,
      "metadata": {
        "id": "P7epXONH4Ivs"
      },
      "outputs": [],
      "source": [
        "import pandas as pd\n",
        "\n",
        "# Sample Data\n",
        "data = {\n",
        "    'EmployeeID': [101, 102, 103, 104, 105],\n",
        "    'Name': ['Alice', 'Bob', 'Charlie', 'David', 'Eva'],\n",
        "    'Department': ['HR', 'Engineering', 'Engineering', 'HR', 'Finance'],\n",
        "    'JobTitle': ['Manager', 'Engineer', 'Engineer', 'Clerk', 'Analyst'],\n",
        "    'Salary': [75000, 95000, 80000, 50000, 60000],\n",
        "    'HoursWorked': [40, 45, 40, 38, 42],\n",
        "    'Bonus': [5000, 7000, 3000, 2000, 4000]\n",
        "}\n",
        "\n",
        "# Create a DataFrame\n",
        "df = pd.DataFrame(data)"
      ]
    },
    {
      "cell_type": "code",
      "source": [
        "# your code here\n",
        "\n",
        "grouped_by_dept = df.groupby(['Department']).agg(\n",
        "    Salary = ('Salary', 'sum'),\n",
        "    HoursWorked = ('HoursWorked', 'sum')\n",
        "    ).reset_index()\n",
        "\n",
        "\n",
        "# prints your grouped_by_dept results\n",
        "print(grouped_by_dept)\n",
        "#https://www.geeksforgeeks.org/python-pandas-dataframe-groupby/"
      ],
      "metadata": {
        "colab": {
          "base_uri": "https://localhost:8080/"
        },
        "id": "YQ3svKBbzWSh",
        "outputId": "5da6891a-9db3-428b-922c-7b96ac85f412"
      },
      "execution_count": null,
      "outputs": [
        {
          "output_type": "stream",
          "name": "stdout",
          "text": [
            "    Department  Salary  HoursWorked\n",
            "0  Engineering  175000           85\n",
            "1      Finance   60000           42\n",
            "2           HR  125000           78\n"
          ]
        }
      ]
    },
    {
      "cell_type": "markdown",
      "source": [],
      "metadata": {
        "id": "LSTWY-E703Pv"
      }
    },
    {
      "cell_type": "code",
      "source": [
        "grouped_by_dept1 = df.groupby('Department')[['Salary', 'HoursWorked']].sum().reset_index()\n",
        "# prints your grouped_by_dept results\n",
        "print(grouped_by_dept1)\n"
      ],
      "metadata": {
        "colab": {
          "base_uri": "https://localhost:8080/"
        },
        "id": "ycqMI5gqzb0S",
        "outputId": "20184fa1-0d9c-4392-fb69-910265af5568"
      },
      "execution_count": null,
      "outputs": [
        {
          "output_type": "stream",
          "name": "stdout",
          "text": [
            "    Department  Salary  HoursWorked\n",
            "0  Engineering  175000           85\n",
            "1      Finance   60000           42\n",
            "2           HR  125000           78\n"
          ]
        }
      ]
    },
    {
      "cell_type": "markdown",
      "source": [
        "##  Question2\n",
        "The next step is to create the agg_data variable. This should group the data by 'Department' and calculate the following aggregate values:\n",
        "\n",
        "\n",
        "For 'Salary', calculate the sum, mean, and maximum.\n",
        "For 'HoursWorked', calculate the sum and mean.\n",
        "Make sure to reset the index after grouping."
      ],
      "metadata": {
        "id": "oqTmvdtt4ylD"
      }
    },
    {
      "cell_type": "code",
      "source": [
        "agg_data = df.groupby('Department').agg({\n",
        "    'Salary': ['sum', 'mean','max'],\n",
        "    'HoursWorked': ['sum', 'mean']\n",
        "}).reset_index()\n",
        "\n",
        "\n",
        "print(agg_data)"
      ],
      "metadata": {
        "colab": {
          "base_uri": "https://localhost:8080/"
        },
        "id": "UX8arc6r0DCt",
        "outputId": "0d29b403-b438-4178-ae09-cd5e8d26f080"
      },
      "execution_count": null,
      "outputs": [
        {
          "output_type": "stream",
          "name": "stdout",
          "text": [
            "    Department  Salary                 HoursWorked      \n",
            "                   sum     mean    max         sum  mean\n",
            "0  Engineering  175000  87500.0  95000          85  42.5\n",
            "1      Finance   60000  60000.0  60000          42  42.0\n",
            "2           HR  125000  62500.0  75000          78  39.0\n"
          ]
        }
      ]
    },
    {
      "cell_type": "code",
      "source": [],
      "metadata": {
        "colab": {
          "base_uri": "https://localhost:8080/"
        },
        "id": "JmJQiedTzX2u",
        "outputId": "7057e5a9-9c64-489a-95f6-c17f4535464e"
      },
      "execution_count": null,
      "outputs": [
        {
          "output_type": "stream",
          "name": "stdout",
          "text": [
            "<pandas.core.groupby.generic.DataFrameGroupBy object at 0x7f5a1fe00bd0>\n"
          ]
        }
      ]
    },
    {
      "cell_type": "markdown",
      "source": [
        "# Practice Contintued\n",
        "## Question 3\n",
        "We need to create a new column called TotalSalary.\n",
        "\n",
        "This should be calculated by adding the 'Salary' and 'Bonus' columns together for each row.\n",
        "\n",
        "Then:\n",
        "\n",
        "calculate the total salary by summing the 'TotalSalary' column and store it in the variable total_salary.\n",
        "create a new column called SalaryPercentage, which should represent each row's 'TotalSalary' as a percentage of the total_salary."
      ],
      "metadata": {
        "id": "rx0ugKM45B09"
      }
    },
    {
      "cell_type": "code",
      "source": [
        "# https://stackoverflow.com/questions/41286569/get-total-of-pandas-column\n",
        "# Total salary\n",
        "df['TotalSalary'] = df['Salary'] + df['Bonus']\n",
        "\n",
        "#salary Percentage\n",
        "#df['SalaryPercentage'] = df['TotalSalary'] /df['Salary'] * 100\n",
        "#df['SalaryPercentage'] = df['Salary']  / df['TotalSalary'] *100\n",
        "\n",
        "total_salary = df['TotalSalary'].sum()\n",
        "df['SalaryPercentage'] = df['TotalSalary'] /total_salary * 100\n",
        "\n",
        "#prints results\n",
        "print(df)\n"
      ],
      "metadata": {
        "colab": {
          "base_uri": "https://localhost:8080/"
        },
        "id": "suUg7xJX0T-u",
        "outputId": "b75debab-0d74-4755-c97d-5cda20d05e23"
      },
      "execution_count": null,
      "outputs": [
        {
          "output_type": "stream",
          "name": "stdout",
          "text": [
            "   EmployeeID     Name   Department  JobTitle  Salary  HoursWorked  Bonus  \\\n",
            "0         101    Alice           HR   Manager   75000           40   5000   \n",
            "1         102      Bob  Engineering  Engineer   95000           45   7000   \n",
            "2         103  Charlie  Engineering  Engineer   80000           40   3000   \n",
            "3         104    David           HR     Clerk   50000           38   2000   \n",
            "4         105      Eva      Finance   Analyst   60000           42   4000   \n",
            "\n",
            "   TotalSalary  SalaryPercentage  \n",
            "0        80000        106.666667  \n",
            "1       102000        107.368421  \n",
            "2        83000        103.750000  \n",
            "3        52000        104.000000  \n",
            "4        64000        106.666667  \n"
          ]
        }
      ]
    },
    {
      "cell_type": "markdown",
      "source": [
        "## Question  4\n",
        "\n",
        "we need to check if any employees have a TotalSalary greater than or equal to 85,000.\n",
        "If there are any such employees, print a message recommending cuts along with the names of those employees.\n",
        "If no employees meet the criteria, print a message indicating that no cuts are needed at this location."
      ],
      "metadata": {
        "id": "Zci1__mD9CcN"
      }
    },
    {
      "cell_type": "code",
      "source": [
        "\n",
        "\n",
        "high_salary = df[df['TotalSalary'] >= 85000]\n",
        "#print(high_salary)\n",
        "print(f\"We recommend cutting the following employees:\" )\n",
        "for name in high_salary['Name']:\n",
        "    print(name)\n"
      ],
      "metadata": {
        "id": "1gyJIWGw6g5-"
      },
      "execution_count": null,
      "outputs": []
    },
    {
      "cell_type": "markdown",
      "source": [
        "# Convert the Report to a Function"
      ],
      "metadata": {
        "id": "OjTxrOQ4ANAe"
      }
    },
    {
      "cell_type": "markdown",
      "source": [
        "## Question 5"
      ],
      "metadata": {
        "id": "-IT7trwQASnb"
      }
    },
    {
      "cell_type": "code",
      "source": [
        "#import pandas as pd\n",
        "\n",
        "# Sample Data\n",
        "data = {\n",
        "    'EmployeeID': [101, 102, 103, 104, 105],\n",
        "    'Name': ['Alice', 'Bob', 'Charlie', 'David', 'Eva'],\n",
        "    'Department': ['HR', 'Engineering', 'Engineering', 'HR', 'Finance'],\n",
        "    'JobTitle': ['Manager', 'Engineer', 'Engineer', 'Clerk', 'Analyst'],\n",
        "    'Salary': [75000, 95000, 80000, 50000, 60000],\n",
        "    'HoursWorked': [40, 45, 40, 38, 42],\n",
        "    'Bonus': [5000, 7000, 3000, 2000, 4000]\n",
        "}\n",
        "\n",
        "# Create a DataFrame\n",
        "df = pd.DataFrame(data)\n",
        "\n",
        "\n",
        "# Grouping by department and calculating the sum of Salary and HoursWorked\n",
        "grouped_by_dept = df.groupby('Department').agg({\n",
        "    'Salary': 'sum',\n",
        "    'HoursWorked': 'sum'\n",
        "}).reset_index()\n",
        "\n",
        "# Aggregating Salary and HoursWorked for sum, mean, and max values\n",
        "agg_data = df.groupby('Department').agg({\n",
        "    'Salary': ['sum', 'mean', 'max'],\n",
        "    'HoursWorked': ['sum', 'mean']\n",
        "}).reset_index()\n",
        "\n",
        "# Creating TotalSalary column\n",
        "df['TotalSalary'] = df['Salary'] + df['Bonus']\n",
        "\n",
        "# Calculating the total salary and the SalaryPercentage for each row\n",
        "total_salary = df['TotalSalary'].sum()\n",
        "df['SalaryPercentage'] = df['TotalSalary'] / total_salary * 100\n",
        "\n",
        "# Generating the report\n",
        "print(\"=== Department Summary Report ===\")\n",
        "print(\"\\nGrouped by Department (Salary and Hours Worked):\")\n",
        "print(grouped_by_dept)\n",
        "\n",
        "print(\"\\nAggregated Data (Salary - Sum, Mean, Max; Hours Worked - Sum, Mean):\")\n",
        "print(agg_data)\n",
        "\n",
        "print(\"\\nDetailed Data with Total Salary and Salary Percentage:\")\n",
        "print(df[['Department', 'TotalSalary', 'SalaryPercentage']])\n",
        "\n",
        "# Printing out some summary information\n",
        "print(\"\\nTotal Salary Across All Departments: ${:,.2f}\".format(total_salary),'\\n')\n",
        "\n",
        "# Check if any employee's TotalSalary is greater than or equal to 85000\n",
        "high_salary_employees = df[df['TotalSalary'] >= 85000]\n",
        "\n",
        "if not high_salary_employees.empty:\n",
        "    print('We recommend cutting the following employees:')\n",
        "    for name in high_salary_employees['Name']:\n",
        "        print(name)\n",
        "else:\n",
        "    print('No cuts needed at this location')"
      ],
      "metadata": {
        "colab": {
          "base_uri": "https://localhost:8080/"
        },
        "id": "ToOKrRYd-0fG",
        "outputId": "be1e4bbf-82af-4f69-f183-d49c77e8f8ab"
      },
      "execution_count": null,
      "outputs": [
        {
          "output_type": "stream",
          "name": "stdout",
          "text": [
            "=== Department Summary Report ===\n",
            "\n",
            "Grouped by Department (Salary and Hours Worked):\n",
            "    Department  Salary  HoursWorked\n",
            "0  Engineering  175000           85\n",
            "1      Finance   60000           42\n",
            "2           HR  125000           78\n",
            "\n",
            "Aggregated Data (Salary - Sum, Mean, Max; Hours Worked - Sum, Mean):\n",
            "    Department  Salary                 HoursWorked      \n",
            "                   sum     mean    max         sum  mean\n",
            "0  Engineering  175000  87500.0  95000          85  42.5\n",
            "1      Finance   60000  60000.0  60000          42  42.0\n",
            "2           HR  125000  62500.0  75000          78  39.0\n",
            "\n",
            "Detailed Data with Total Salary and Salary Percentage:\n",
            "    Department  TotalSalary  SalaryPercentage\n",
            "0           HR        80000         20.997375\n",
            "1  Engineering       102000         26.771654\n",
            "2  Engineering        83000         21.784777\n",
            "3           HR        52000         13.648294\n",
            "4      Finance        64000         16.797900\n",
            "\n",
            "Total Salary Across All Departments: $381,000.00 \n",
            "\n",
            "We recommend cutting the following employees:\n",
            "Bob\n"
          ]
        }
      ]
    },
    {
      "cell_type": "markdown",
      "source": [
        "# Question 6\n",
        "The client has approved the report and is satisfied with the formatting. Our next step is to convert the report into a function, allowing us to consistently generate the same report using data from any location.\n",
        "\n",
        "Make a function called location_report()"
      ],
      "metadata": {
        "id": "FFW2yYeIAYWg"
      }
    },
    {
      "cell_type": "code",
      "source": [
        "import pandas as pd\n",
        "\n",
        "# Sample Data\n",
        "data = {\n",
        "    'EmployeeID': [101, 102, 103, 104, 105],\n",
        "    'Name': ['Alice', 'Bob', 'Charlie', 'David', 'Eva'],\n",
        "    'Department': ['HR', 'Engineering', 'Engineering', 'HR', 'Finance'],\n",
        "    'JobTitle': ['Manager', 'Engineer', 'Engineer', 'Clerk', 'Analyst'],\n",
        "    'Salary': [75000, 95000, 80000, 50000, 60000],\n",
        "    'HoursWorked': [40, 45, 40, 38, 42],\n",
        "    'Bonus': [5000, 7000, 3000, 2000, 4000]\n",
        "}\n",
        "\n",
        "# Create a DataFrame\n",
        "df = pd.DataFrame(data)\n",
        "\n",
        "\n",
        "# -----------------------------------------------------\n",
        "# convert this to a function location_report()\n",
        "# to take in a dataframe as an argument\n",
        "# and return the report\n",
        "# -----------------------------------------------------\n",
        "def location_report(df):\n",
        "    #print(\"=== Department Summary Report ===\")\n",
        "    # Grouping by department and calculating the sum of Salary and HoursWorked\n",
        "    grouped_by_dept = df.groupby('Department').agg({\n",
        "        'Salary': 'sum',\n",
        "        'HoursWorked': 'sum'\n",
        "    }).reset_index()\n",
        "\n",
        "    # Aggregating Salary and HoursWorked for sum, mean, and max values\n",
        "    agg_data = df.groupby('Department').agg({\n",
        "        'Salary': ['sum', 'mean', 'max'],\n",
        "        'HoursWorked': ['sum', 'mean']\n",
        "    }).reset_index()\n",
        "\n",
        "    # Creating TotalSalary column\n",
        "    df['TotalSalary'] = df['Salary'] + df['Bonus']\n",
        "\n",
        "    # Calculating the total salary and the SalaryPercentage for each row\n",
        "    total_salary = df['TotalSalary'].sum()\n",
        "    df['SalaryPercentage'] = df['TotalSalary'] / total_salary * 100\n",
        "\n",
        "    # Generating the report\n",
        "    print(\"=== Department Summary Report ===\")\n",
        "    print(\"\\nGrouped by Department (Salary and Hours Worked):\")\n",
        "    print(grouped_by_dept)\n",
        "\n",
        "    print(\"\\nAggregated Data (Salary - Sum, Mean, Max; Hours Worked - Sum, Mean):\")\n",
        "    print(agg_data)\n",
        "\n",
        "    print(\"\\nDetailed Data with Total Salary and Salary Percentage:\")\n",
        "    print(df[['Department', 'TotalSalary', 'SalaryPercentage']])\n",
        "\n",
        "    # Printing out some summary information\n",
        "    print(\"\\nTotal Salary Across All Departments: ${:,.2f}\".format(total_salary),'\\n')\n",
        "\n",
        "    # Check if any employee's TotalSalary is greater than or equal to 85000\n",
        "    high_salary_employees = df[df['TotalSalary'] >= 85000]\n",
        "\n",
        "    if not high_salary_employees.empty:\n",
        "        print('We recommend cutting the following employees:')\n",
        "        for name in high_salary_employees['Name']:\n",
        "            print(name)\n",
        "    else:\n",
        "        print('No cuts needed at this location')\n",
        "\n",
        "#return report\n",
        "\n",
        "# runs your function on the above df\n",
        "location_report(df)\n"
      ],
      "metadata": {
        "id": "yOVtOZhMAWZX"
      },
      "execution_count": null,
      "outputs": []
    },
    {
      "cell_type": "markdown",
      "source": [
        "## Question 7\n",
        "We now have a function that can generate the report for any location. This allows us to import the function into other files, enabling us to dynamically provide new location data without the need to rewrite or copy-paste the code.\n",
        "\n",
        "While we can't implement this in OpenClass, we will demonstrate it using a new dataset from the London location. Let’s see if it performs as expected.\n",
        "\n",
        "Additionally, try copying the code into VS Code, set up the function, and call it within a file to process the London data!"
      ],
      "metadata": {
        "id": "U9PyVGKCB1AX"
      }
    },
    {
      "cell_type": "code",
      "source": [
        "import pandas as pd\n",
        "\n",
        "data = {\n",
        "    'EmployeeID': [101, 102, 103, 104, 105, 106, 107, 108, 109, 110, 111, 112, 113, 114, 115],\n",
        "    'Name': ['Alice', 'Bob', 'Charlie', 'David', 'Eva', 'Frank', 'Grace', 'Hannah', 'Ivy', 'Jack', 'Kim', 'Liam', 'Megan', 'Nathan', 'Olivia'],\n",
        "    'Department': ['HR', 'Engineering', 'Engineering', 'HR', 'Finance', 'Sales', 'Sales', 'Engineering', 'HR', 'Finance', 'Sales', 'HR', 'Engineering', 'Sales', 'HR'],\n",
        "    'JobTitle': ['Manager', 'Engineer', 'Engineer', 'Clerk', 'Analyst', 'Sales Rep', 'Sales Rep', 'Engineer', 'Clerk', 'Analyst', 'Sales Rep', 'Manager', 'Engineer', 'Sales Rep', 'Clerk'],\n",
        "    'Salary': [75000, 95000, 80000, 50000, 60000, 70000, 72000, 85000, 52000, 62000, 75000, 77000, 80000, 73000, 54000],\n",
        "    'HoursWorked': [40, 45, 40, 38, 42, 40, 38, 45, 39, 41, 42, 40, 44, 39, 38],\n",
        "    'Bonus': [5000, 7000, 3000, 2000, 4000, 5000, 4000, 6000, 2500, 3000, 5500, 4500, 6000, 5000, 2500]\n",
        "}\n",
        "\n",
        "# Create DataFrame\n",
        "london = pd.DataFrame(data)\n",
        "\n",
        "\n",
        "def location_report(df):\n",
        "  # Grouping by department and calculating the sum of Salary and HoursWorked\n",
        "  grouped_by_dept = df.groupby('Department').agg({\n",
        "      'Salary': 'sum',\n",
        "      'HoursWorked': 'sum'\n",
        "  }).reset_index()\n",
        "\n",
        "  # Aggregating Salary and HoursWorked for sum, mean, and max values\n",
        "  agg_data = df.groupby('Department').agg({\n",
        "      'Salary': ['sum', 'mean', 'max'],\n",
        "      'HoursWorked': ['sum', 'mean']\n",
        "  }).reset_index()\n",
        "\n",
        "  # Creating TotalSalary column\n",
        "  df['TotalSalary'] = df['Salary'] + df['Bonus']\n",
        "\n",
        "  # Calculating the total salary and the SalaryPercentage for each row\n",
        "  total_salary = df['TotalSalary'].sum()\n",
        "  df['SalaryPercentage'] = df['TotalSalary'] / total_salary * 100\n",
        "\n",
        "  # Generating the report\n",
        "  print(\"=== Department Summary Report ===\")\n",
        "  print(\"\\nGrouped by Department (Salary and Hours Worked):\")\n",
        "  print(grouped_by_dept)\n",
        "\n",
        "  print(\"\\nAggregated Data (Salary - Sum, Mean, Max; Hours Worked - Sum, Mean):\")\n",
        "  print(agg_data)\n",
        "\n",
        "  print(\"\\nDetailed Data with Total Salary and Salary Percentage:\")\n",
        "  print(df[['Department', 'TotalSalary', 'SalaryPercentage']])\n",
        "\n",
        "  # Printing out some summary information\n",
        "  print(\"\\nTotal Salary Across All Departments: ${:,.2f}\".format(total_salary),'\\n')\n",
        "\n",
        "  # Check if any employee's TotalSalary is greater than or equal to 85000\n",
        "  high_salary_employees = df[df['TotalSalary'] >= 85000]\n",
        "\n",
        "  if not high_salary_employees.empty:\n",
        "      print('We recommend cutting the following employees:')\n",
        "      for name in high_salary_employees['Name']:\n",
        "          print(name)\n",
        "  else:\n",
        "      print('No cuts needed at this location')\n",
        "\n",
        "  return\n",
        "\n",
        "# test the function with londons data\n",
        "location_report(london)"
      ],
      "metadata": {
        "colab": {
          "base_uri": "https://localhost:8080/"
        },
        "id": "dvYw8_zOCDoz",
        "outputId": "4b2723d0-0444-4db4-d833-1d8da5c1221b"
      },
      "execution_count": null,
      "outputs": [
        {
          "output_type": "stream",
          "name": "stdout",
          "text": [
            "=== Department Summary Report ===\n",
            "\n",
            "Grouped by Department (Salary and Hours Worked):\n",
            "    Department  Salary  HoursWorked\n",
            "0  Engineering  340000          174\n",
            "1      Finance  122000           83\n",
            "2           HR  308000          195\n",
            "3        Sales  290000          159\n",
            "\n",
            "Aggregated Data (Salary - Sum, Mean, Max; Hours Worked - Sum, Mean):\n",
            "    Department  Salary                 HoursWorked       \n",
            "                   sum     mean    max         sum   mean\n",
            "0  Engineering  340000  85000.0  95000         174  43.50\n",
            "1      Finance  122000  61000.0  62000          83  41.50\n",
            "2           HR  308000  61600.0  77000         195  39.00\n",
            "3        Sales  290000  72500.0  75000         159  39.75\n",
            "\n",
            "Detailed Data with Total Salary and Salary Percentage:\n",
            "     Department  TotalSalary  SalaryPercentage\n",
            "0            HR        80000          7.111111\n",
            "1   Engineering       102000          9.066667\n",
            "2   Engineering        83000          7.377778\n",
            "3            HR        52000          4.622222\n",
            "4       Finance        64000          5.688889\n",
            "5         Sales        75000          6.666667\n",
            "6         Sales        76000          6.755556\n",
            "7   Engineering        91000          8.088889\n",
            "8            HR        54500          4.844444\n",
            "9       Finance        65000          5.777778\n",
            "10        Sales        80500          7.155556\n",
            "11           HR        81500          7.244444\n",
            "12  Engineering        86000          7.644444\n",
            "13        Sales        78000          6.933333\n",
            "14           HR        56500          5.022222\n",
            "\n",
            "Total Salary Across All Departments: $1,125,000.00 \n",
            "\n",
            "We recommend cutting the following employees:\n",
            "Bob\n",
            "Hannah\n",
            "Megan\n"
          ]
        }
      ]
    },
    {
      "cell_type": "code",
      "source": [],
      "metadata": {
        "id": "rfdnlFMsCEZu"
      },
      "execution_count": null,
      "outputs": []
    }
  ]
}