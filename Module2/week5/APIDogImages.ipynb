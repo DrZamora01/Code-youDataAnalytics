{
  "nbformat": 4,
  "nbformat_minor": 0,
  "metadata": {
    "colab": {
      "provenance": [],
      "authorship_tag": "ABX9TyN0CvNPtARLqds2g5kr1BnW",
      "include_colab_link": true
    },
    "kernelspec": {
      "name": "python3",
      "display_name": "Python 3"
    },
    "language_info": {
      "name": "python"
    }
  },
  "cells": [
    {
      "cell_type": "markdown",
      "metadata": {
        "id": "view-in-github",
        "colab_type": "text"
      },
      "source": [
        "<a href=\"https://colab.research.google.com/github/DrZamora01/Code-youDataAnalytics/blob/main/APIDogImages.ipynb\" target=\"_parent\"><img src=\"https://colab.research.google.com/assets/colab-badge.svg\" alt=\"Open In Colab\"/></a>"
      ]
    },
    {
      "cell_type": "code",
      "source": [
        "import requests\n",
        "from IPython.display import Image, display\n",
        "\n",
        "# Get random dog image from API\n",
        "url = \"https://dog.ceo/api/breeds/image/random\"\n",
        "response = requests.get(url)\n",
        "\n",
        "if response.status_code == 200:\n",
        "    data = response.json()\n",
        "    image_url = data['message']\n",
        "    print(\"Image URL:\", image_url)  # Optional: shows the link\n",
        "    display(Image(url=image_url))   # This shows the image in Colab\n",
        "else:\n",
        "    print(\"Failed to fetch image\")\n"
      ],
      "metadata": {
        "colab": {
          "base_uri": "https://localhost:8080/",
          "height": 978
        },
        "id": "6R-6Bak6_pq2",
        "outputId": "9ba3f1e3-34ea-43b8-e6e1-23b5a329caa0"
      },
      "execution_count": 2,
      "outputs": [
        {
          "output_type": "stream",
          "name": "stdout",
          "text": [
            "Image URL: https://images.dog.ceo/breeds/tervuren/yoda_on_terrace.jpg\n"
          ]
        },
        {
          "output_type": "display_data",
          "data": {
            "text/html": [
              "<img src=\"https://images.dog.ceo/breeds/tervuren/yoda_on_terrace.jpg\"/>"
            ],
            "text/plain": [
              "<IPython.core.display.Image object>"
            ]
          },
          "metadata": {}
        }
      ]
    },
    {
      "cell_type": "code",
      "source": [],
      "metadata": {
        "id": "eENROg0q_2ed"
      },
      "execution_count": null,
      "outputs": []
    }
  ]
}
